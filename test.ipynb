{
 "cells": [
  {
   "cell_type": "code",
   "execution_count": 2,
   "metadata": {},
   "outputs": [],
   "source": [
    "# -*- coding: cp936 -*-\n",
    "# 创建带箭头的直线create_line\n",
    "from tkinter import *\n",
    "root = Tk()\n",
    "# 创建一个Canvas，设置其背景色为白色\n",
    "cv = Canvas(root,bg = 'white')\n",
    "d = [(0,'none'),(1,'first'),(2,'last'),(3,'both')]\n",
    "for i in d:\n",
    "    cv.create_line(\n",
    "        (10,10 + i[0]*20,110,110+ i[0] * 20), # 设置直线的起始、终点\n",
    "        arrow = i[1], # 设置直线是否使用箭头\n",
    "        arrowshape = '40 40 10' # 设置箭头的形状(填充长度，箭头长度，箭头宽度\n",
    "        )\n",
    "cv.pack()\n",
    "root.mainloop()\n",
    "# 使用arrow属性来控制是否显示箭头"
   ]
  },
  {
   "cell_type": "code",
   "execution_count": 3,
   "metadata": {},
   "outputs": [],
   "source": [
    "from tkinter import *\n",
    "root = Tk()\n",
    "Button(root,text='A').pack(side=LEFT,expand=YES,fill=Y)\n",
    "Button(root,text='B').pack(side=TOP,expand=YES,fill=BOTH)\n",
    "Button(root,text='C').pack(side=RIGHT,expand=YES,fill=NONE)\n",
    "Button(root,text='D').pack(side=LEFT,expand=NO,fill=Y)\n",
    "Button(root,text='E').pack(side=TOP,expand=YES,fill=BOTH)\n",
    "Button(root,text='F').pack(side=BOTTOM,expand=YES)\n",
    "Button(root,text='G').pack(anchor=SE)\n",
    "root.mainloop()"
   ]
  },
  {
   "cell_type": "code",
   "execution_count": 4,
   "metadata": {},
   "outputs": [],
   "source": [
    "import os\n",
    "import numpy as np\n",
    "fname='./data/dataA.txt'\n",
    "n=30\n",
    "offset = -2000\n",
    "data=np.zeros(n)\n",
    "ii=0\n",
    "with open(fname,'rb') as f:\n",
    "    f.seek(0,2)\n",
    "    f.seek(offset,2)\n",
    "    for row in f.readlines()[1:n]:\n",
    "        data[ii]=float(row.decode().split(' ')[1])\n",
    "#数据清洗\n",
    "mean= np.mean(data)\n",
    "std= np.std(data)\n",
    "#print((data>(mean-3*std)) & (data<(mean+3*std)))\n",
    "data=data[(data>(mean-3*std)) & (data<(mean+3*std))]"
   ]
  }
 ],
 "metadata": {
  "interpreter": {
   "hash": "63a00c48227292dbe4a83b18921e0ab8d9055d3581df146d81c8178f15076371"
  },
  "kernelspec": {
   "display_name": "Python 3.9.7 64-bit (windows store)",
   "name": "python3"
  },
  "language_info": {
   "codemirror_mode": {
    "name": "ipython",
    "version": 3
   },
   "file_extension": ".py",
   "mimetype": "text/x-python",
   "name": "python",
   "nbconvert_exporter": "python",
   "pygments_lexer": "ipython3",
   "version": "3.9.7"
  },
  "orig_nbformat": 4
 },
 "nbformat": 4,
 "nbformat_minor": 2
}
