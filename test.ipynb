{
 "cells": [
  {
   "cell_type": "code",
   "execution_count": 2,
   "metadata": {},
   "outputs": [],
   "source": [
    "# -*- coding: cp936 -*-\n",
    "# 创建带箭头的直线create_line\n",
    "from tkinter import *\n",
    "root = Tk()\n",
    "# 创建一个Canvas，设置其背景色为白色\n",
    "cv = Canvas(root,bg = 'white')\n",
    "d = [(0,'none'),(1,'first'),(2,'last'),(3,'both')]\n",
    "for i in d:\n",
    "    cv.create_line(\n",
    "        (10,10 + i[0]*20,110,110+ i[0] * 20), # 设置直线的起始、终点\n",
    "        arrow = i[1], # 设置直线是否使用箭头\n",
    "        arrowshape = '40 40 10' # 设置箭头的形状(填充长度，箭头长度，箭头宽度\n",
    "        )\n",
    "cv.pack()\n",
    "root.mainloop()\n",
    "# 使用arrow属性来控制是否显示箭头"
   ]
  },
  {
   "cell_type": "code",
   "execution_count": 3,
   "metadata": {},
   "outputs": [],
   "source": [
    "from tkinter import *\n",
    "root = Tk()\n",
    "Button(root,text='A').pack(side=LEFT,expand=YES,fill=Y)\n",
    "Button(root,text='B').pack(side=TOP,expand=YES,fill=BOTH)\n",
    "Button(root,text='C').pack(side=RIGHT,expand=YES,fill=NONE)\n",
    "Button(root,text='D').pack(side=LEFT,expand=NO,fill=Y)\n",
    "Button(root,text='E').pack(side=TOP,expand=YES,fill=BOTH)\n",
    "Button(root,text='F').pack(side=BOTTOM,expand=YES)\n",
    "Button(root,text='G').pack(anchor=SE)\n",
    "root.mainloop()"
   ]
  },
  {
   "cell_type": "code",
   "execution_count": 4,
   "metadata": {},
   "outputs": [],
   "source": [
    "import os\n",
    "import numpy as np\n",
    "fname='./data/dataA.txt'\n",
    "n=30\n",
    "offset = -2000\n",
    "data=np.zeros(n)\n",
    "ii=0\n",
    "with open(fname,'rb') as f:\n",
    "    f.seek(0,2)\n",
    "    f.seek(offset,2)\n",
    "    for row in f.readlines()[1:n]:\n",
    "        data[ii]=float(row.decode().split(' ')[1])\n",
    "#数据清洗\n",
    "mean= np.mean(data)\n",
    "std= np.std(data)\n",
    "#print((data>(mean-3*std)) & (data<(mean+3*std)))\n",
    "data=data[(data>(mean-3*std)) & (data<(mean+3*std))]"
   ]
  },
  {
   "cell_type": "code",
   "execution_count": 5,
   "metadata": {},
   "outputs": [
    {
     "name": "stdout",
     "output_type": "stream",
     "text": [
      "[3 4]\n"
     ]
    }
   ],
   "source": [
    "x=np.array([1,2,3,4,5,6])\n",
    "print(x[(x>2)&(x<5)])"
   ]
  },
  {
   "cell_type": "code",
   "execution_count": 6,
   "metadata": {},
   "outputs": [
    {
     "data": {
      "text/plain": [
       "0.9999999999999999"
      ]
     },
     "execution_count": 6,
     "metadata": {},
     "output_type": "execute_result"
    }
   ],
   "source": [
    "import math\n",
    "math.tan(45*2*math.pi/360)"
   ]
  },
  {
   "cell_type": "code",
   "execution_count": null,
   "metadata": {},
   "outputs": [],
   "source": [
    "import numpy as np\n",
    "#生成一组测试数据\n",
    "n=100\n",
    "data=np.ones((n,6))\n",
    "data[:,0]=np.arange(0,n,1)\n",
    "data[:,1]=60+np.random.random([n])*20\n",
    "data[:,2]*=-2.465351\n",
    "data[:,3]*=0.607373\n",
    "data[:,4]*=50.00000\n",
    "data[:,5]*=2400\n",
    "np.savetxt('./data/dataB.txt', np.c_[data],fmt='%f',delimiter=' ')\n",
    "# for i in range(n):\n",
    "#     data[i][0]=i\n",
    "#     data[i][1]=\n",
    "print(data)\n",
    "# with open ('./data/dataB.txt','w') as fw:\n",
    "#     for i in range(100):\n"
   ]
  },
  {
   "cell_type": "code",
   "execution_count": 11,
   "metadata": {},
   "outputs": [
    {
     "name": "stdout",
     "output_type": "stream",
     "text": [
      "[1 2 3]\n"
     ]
    }
   ],
   "source": [
    "import numpy as np\n",
    "x=np.array([[1,2,3],[2,3,4],[3,4,5],[5,6,7]])\n",
    "y=str(x[0])\n",
    "y.replace('[','').replace(']','')\n",
    "print(y)\n"
   ]
  }
 ],
 "metadata": {
  "interpreter": {
   "hash": "63a00c48227292dbe4a83b18921e0ab8d9055d3581df146d81c8178f15076371"
  },
  "kernelspec": {
   "display_name": "Python 3.9.7 64-bit (windows store)",
   "name": "python3"
  },
  "language_info": {
   "codemirror_mode": {
    "name": "ipython",
    "version": 3
   },
   "file_extension": ".py",
   "mimetype": "text/x-python",
   "name": "python",
   "nbconvert_exporter": "python",
   "pygments_lexer": "ipython3",
   "version": "3.9.7"
  },
  "orig_nbformat": 4
 },
 "nbformat": 4,
 "nbformat_minor": 2
}
